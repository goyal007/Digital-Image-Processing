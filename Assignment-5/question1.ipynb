{
 "cells": [
  {
   "cell_type": "code",
   "execution_count": 4,
   "metadata": {
    "colab": {
     "base_uri": "https://localhost:8080/",
     "height": 1000
    },
    "colab_type": "code",
    "id": "0GYpQZ3Xn_8G",
    "outputId": "a43da07c-ce9a-4696-df27-74f4da64b80e"
   },
   "outputs": [
    {
     "name": "stdout",
     "output_type": "stream",
     "text": [
      "Train: X=(50000, 32, 32, 3), y=(50000, 1)\n",
      "Test: X=(10000, 32, 32, 3), y=(10000, 1)\n",
      "Model: \"sequential_4\"\n",
      "_________________________________________________________________\n",
      "Layer (type)                 Output Shape              Param #   \n",
      "=================================================================\n",
      "conv2d_7 (Conv2D)            (None, 32, 32, 32)        896       \n",
      "_________________________________________________________________\n",
      "max_pooling2d_7 (MaxPooling2 (None, 16, 16, 32)        0         \n",
      "_________________________________________________________________\n",
      "conv2d_8 (Conv2D)            (None, 16, 16, 32)        9248      \n",
      "_________________________________________________________________\n",
      "max_pooling2d_8 (MaxPooling2 (None, 8, 8, 32)          0         \n",
      "_________________________________________________________________\n",
      "flatten_4 (Flatten)          (None, 2048)              0         \n",
      "_________________________________________________________________\n",
      "dense_10 (Dense)             (None, 1024)              2098176   \n",
      "_________________________________________________________________\n",
      "dense_11 (Dense)             (None, 512)               524800    \n",
      "_________________________________________________________________\n",
      "dense_12 (Dense)             (None, 10)                5130      \n",
      "=================================================================\n",
      "Total params: 2,638,250\n",
      "Trainable params: 2,638,250\n",
      "Non-trainable params: 0\n",
      "_________________________________________________________________\n",
      "Train on 40000 samples, validate on 10000 samples\n",
      "Epoch 1/25\n",
      "40000/40000 [==============================] - 6s 154us/step - loss: 1.4627 - acc: 0.4683 - val_loss: 1.2569 - val_acc: 0.5512\n",
      "Epoch 2/25\n",
      "40000/40000 [==============================] - 5s 136us/step - loss: 1.0706 - acc: 0.6199 - val_loss: 1.0304 - val_acc: 0.6338\n",
      "Epoch 3/25\n",
      "40000/40000 [==============================] - 5s 137us/step - loss: 0.8980 - acc: 0.6843 - val_loss: 0.9954 - val_acc: 0.6577\n",
      "Epoch 4/25\n",
      "40000/40000 [==============================] - 5s 134us/step - loss: 0.7657 - acc: 0.7303 - val_loss: 0.8754 - val_acc: 0.6978\n",
      "Epoch 5/25\n",
      "40000/40000 [==============================] - 5s 137us/step - loss: 0.6312 - acc: 0.7769 - val_loss: 0.8626 - val_acc: 0.7088\n",
      "Epoch 6/25\n",
      "40000/40000 [==============================] - 5s 137us/step - loss: 0.5015 - acc: 0.8246 - val_loss: 0.9434 - val_acc: 0.6952\n",
      "Epoch 7/25\n",
      "40000/40000 [==============================] - 5s 136us/step - loss: 0.3773 - acc: 0.8706 - val_loss: 0.9231 - val_acc: 0.7217\n",
      "Epoch 8/25\n",
      "40000/40000 [==============================] - 6s 138us/step - loss: 0.2561 - acc: 0.9107 - val_loss: 1.0952 - val_acc: 0.6992\n",
      "Epoch 9/25\n",
      "40000/40000 [==============================] - 5s 137us/step - loss: 0.1766 - acc: 0.9392 - val_loss: 1.2205 - val_acc: 0.7025\n",
      "Epoch 10/25\n",
      "40000/40000 [==============================] - 5s 136us/step - loss: 0.1167 - acc: 0.9615 - val_loss: 1.3415 - val_acc: 0.7023\n",
      "Epoch 11/25\n",
      "40000/40000 [==============================] - 5s 135us/step - loss: 0.0943 - acc: 0.9686 - val_loss: 1.4803 - val_acc: 0.6925\n",
      "Epoch 12/25\n",
      "40000/40000 [==============================] - 5s 137us/step - loss: 0.0757 - acc: 0.9749 - val_loss: 1.5950 - val_acc: 0.6998\n",
      "Epoch 13/25\n",
      "40000/40000 [==============================] - 6s 138us/step - loss: 0.0897 - acc: 0.9689 - val_loss: 1.5989 - val_acc: 0.7101\n",
      "Epoch 14/25\n",
      "40000/40000 [==============================] - 6s 140us/step - loss: 0.0608 - acc: 0.9795 - val_loss: 1.7120 - val_acc: 0.6951\n",
      "Epoch 15/25\n",
      "40000/40000 [==============================] - 5s 136us/step - loss: 0.0587 - acc: 0.9797 - val_loss: 1.7660 - val_acc: 0.6971\n",
      "Epoch 16/25\n",
      "40000/40000 [==============================] - 5s 136us/step - loss: 0.0570 - acc: 0.9809 - val_loss: 1.7996 - val_acc: 0.7107\n",
      "Epoch 17/25\n",
      "40000/40000 [==============================] - 5s 136us/step - loss: 0.0432 - acc: 0.9861 - val_loss: 1.9477 - val_acc: 0.6952\n",
      "Epoch 18/25\n",
      "40000/40000 [==============================] - 5s 135us/step - loss: 0.0598 - acc: 0.9807 - val_loss: 1.8566 - val_acc: 0.6969\n",
      "Epoch 19/25\n",
      "40000/40000 [==============================] - 5s 133us/step - loss: 0.0476 - acc: 0.9844 - val_loss: 1.9286 - val_acc: 0.6980\n",
      "Epoch 20/25\n",
      "40000/40000 [==============================] - 5s 136us/step - loss: 0.0455 - acc: 0.9848 - val_loss: 1.9347 - val_acc: 0.7044\n",
      "Epoch 21/25\n",
      "40000/40000 [==============================] - 5s 135us/step - loss: 0.0521 - acc: 0.9829 - val_loss: 1.9256 - val_acc: 0.6956\n",
      "Epoch 22/25\n",
      "40000/40000 [==============================] - 5s 135us/step - loss: 0.0435 - acc: 0.9861 - val_loss: 1.9577 - val_acc: 0.7080\n",
      "Epoch 23/25\n",
      "40000/40000 [==============================] - 5s 135us/step - loss: 0.0297 - acc: 0.9904 - val_loss: 2.0547 - val_acc: 0.6972\n",
      "Epoch 24/25\n",
      "40000/40000 [==============================] - 5s 136us/step - loss: 0.0385 - acc: 0.9878 - val_loss: 2.1404 - val_acc: 0.6974\n",
      "Epoch 25/25\n",
      "40000/40000 [==============================] - 5s 137us/step - loss: 0.0446 - acc: 0.9856 - val_loss: 2.3025 - val_acc: 0.6762\n"
     ]
    },
    {
     "data": {
      "image/png": "[encoded data removed]",
      "text/plain": [
       "<Figure size 432x288 with 1 Axes>"
      ]
     },
     "metadata": {
      "tags": []
     },
     "output_type": "display_data"
    },
    {
     "data": {
      "image/png": "[encoded data removed]",
      "text/plain": [
       "<Figure size 432x288 with 1 Axes>"
      ]
     },
     "metadata": {
      "tags": []
     },
     "output_type": "display_data"
    },
    {
     "name": "stdout",
     "output_type": "stream",
     "text": [
      "10000/10000 [==============================] - 1s 109us/step\n",
      "Test accuracy: 0.6608\n"
     ]
    }
   ],
   "source": [
    "#Lab Assignment - 5\n",
    "#DIGITAL IMAGE PROCESSING LAB\n",
    "#Date – 17/09/2019\n",
    "#Name – ASHISH GOYAL\n",
    "#ID Number – 2016UCP1100\n",
    "\n",
    "#from google.colab import drive        ##use to mount google drive.......\n",
    "#drive.mount('/content/drive')\n",
    "\n",
    "import keras\n",
    "import matplotlib.pyplot as plt\n",
    "from keras.datasets import cifar10\n",
    "from keras.models import Sequential\n",
    "from keras.layers import Conv2D\n",
    "from keras.layers import MaxPooling2D\n",
    "from keras.layers import Dense\n",
    "from keras.layers import Flatten\n",
    "\n",
    "def plot_loss_acc(history):             ##function to plot graph for accuracy and loss for both training and validation...\n",
    "    # Plot training & validation accuracy values\n",
    "    plt.plot(history.history['acc'])\n",
    "    plt.plot(history.history['val_acc'])\n",
    "    plt.title('Model accuracy')\n",
    "    plt.ylabel('Accuracy')\n",
    "    plt.xlabel('Epoch')\n",
    "    plt.legend(['Train', 'Validation'], loc='upper left')\n",
    "    plt.show()\n",
    "\n",
    "    # Plot training & validation loss values\n",
    "    plt.plot(history.history['loss'])\n",
    "    plt.plot(history.history['val_loss'])\n",
    "    plt.title('Model loss')\n",
    "    plt.ylabel('Loss')\n",
    "    plt.xlabel('Epoch')\n",
    "    plt.legend(['Train', 'Validation'], loc='upper left')\n",
    "    plt.show()\n",
    "\n",
    "\n",
    "# load dataset\n",
    "(Xtrain, Ytrain), (Xtest, Ytest)=cifar10.load_data()\n",
    "\n",
    "# summarize loaded dataset\n",
    "print('Train: X=%s, y=%s' % (Xtrain.shape, Ytrain.shape))\n",
    "print('Test: X=%s, y=%s' % (Xtest.shape, Ytest.shape))\n",
    "\n",
    "#Normalize the input\n",
    "Xtrain=Xtrain/255\n",
    "Xtest=Xtest/255\n",
    "\n",
    "#Creating the model\n",
    "cnn_model =Sequential()\n",
    "cnn_model.add(Conv2D(32, (3, 3), activation='relu', input_shape=(32, 32, 3), padding='same')) #applying 32 convolutional filter of size 3x3\n",
    "cnn_model.add(MaxPooling2D(pool_size=(2, 2)))  #applying Maxpool operation after layer (pool size=2×2)\n",
    "cnn_model.add(Conv2D(32, (3, 3), activation='relu', padding='same'))  #applying 32 convolutional filter of size 3x3\n",
    "cnn_model.add(MaxPooling2D(pool_size=(2, 2)))  #applying Maxpool operation after layer (pool size=2×2)\n",
    "cnn_model.add(Flatten())      #convert into 1D feature vector of size(1xn)\n",
    "cnn_model.add(Dense(1024, activation='relu'))      #convert size from n to 1024\n",
    "cnn_model.add(Dense(512, activation='relu'))       #convert size from 1024 to 512\n",
    "cnn_model.add(Dense(10, activation='softmax'))     #convert size from 512 to 10\n",
    "cnn_model.compile(optimizer='adam',loss='sparse_categorical_crossentropy',metrics=['accuracy'])\n",
    "cnn_model.summary()\n",
    "\n",
    "#training the model and saving it\n",
    "model_history = cnn_model.fit(Xtrain, Ytrain, epochs=25, batch_size=128, validation_split=0.2)\n",
    "cnn_model.save(\"model.h5\")\n",
    "#drawing accuracy and loss graphs\n",
    "plot_loss_acc(model_history)\n",
    "\n",
    "#testing the model\n",
    "keras.utils.plot_model(cnn_model)\n",
    "test_loss, test_acc = cnn_model.evaluate(Xtest, Ytest)\n",
    "print('Test accuracy:', test_acc)"
   ]
  },
  {
   "cell_type": "code",
   "execution_count": 0,
   "metadata": {
    "colab": {},
    "colab_type": "code",
    "id": "GzT77IDcodei"
   },
   "outputs": [],
   "source": []
  }
 ],
 "metadata": {
  "accelerator": "GPU",
  "colab": {
   "collapsed_sections": [],
   "name": "aquestion1.ipynb",
   "provenance": [],
   "version": "0.3.2"
  },
  "kernelspec": {
   "display_name": "Python 3",
   "language": "python",
   "name": "python3"
  },
  "language_info": {
   "codemirror_mode": {
    "name": "ipython",
    "version": 3
   },
   "file_extension": ".py",
   "mimetype": "text/x-python",
   "name": "python",
   "nbconvert_exporter": "python",
   "pygments_lexer": "ipython3",
   "version": "3.7.0"
  }
 },
 "nbformat": 4,
 "nbformat_minor": 1
}
