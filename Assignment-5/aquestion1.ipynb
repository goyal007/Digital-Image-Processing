{
 "cells": [
  {
   "cell_type": "code",
   "execution_count": 1,
   "metadata": {
    "colab": {
     "base_uri": "https://localhost:8080/",
     "height": 1000
    },
    "colab_type": "code",
    "id": "0GYpQZ3Xn_8G",
    "outputId": "ec32f327-5e4c-4b58-9c88-5186fabdfd41"
   },
   "outputs": [
    {
     "name": "stderr",
     "output_type": "stream",
     "text": [
      "Using TensorFlow backend.\n"
     ]
    },
    {
     "name": "stdout",
     "output_type": "stream",
     "text": [
      "Downloading data from https://www.cs.toronto.edu/~kriz/cifar-10-python.tar.gz\n",
      "170500096/170498071 [==============================] - 6s 0us/step\n",
      "Train: X=(50000, 32, 32, 3), y=(50000, 10)\n",
      "Test: X=(10000, 32, 32, 3), y=(10000, 10)\n",
      "WARNING:tensorflow:From /usr/local/lib/python3.6/dist-packages/keras/backend/tensorflow_backend.py:66: The name tf.get_default_graph is deprecated. Please use tf.compat.v1.get_default_graph instead.\n",
      "\n",
      "WARNING:tensorflow:From /usr/local/lib/python3.6/dist-packages/keras/backend/tensorflow_backend.py:541: The name tf.placeholder is deprecated. Please use tf.compat.v1.placeholder instead.\n",
      "\n",
      "WARNING:tensorflow:From /usr/local/lib/python3.6/dist-packages/keras/backend/tensorflow_backend.py:4432: The name tf.random_uniform is deprecated. Please use tf.random.uniform instead.\n",
      "\n",
      "WARNING:tensorflow:From /usr/local/lib/python3.6/dist-packages/keras/backend/tensorflow_backend.py:4267: The name tf.nn.max_pool is deprecated. Please use tf.nn.max_pool2d instead.\n",
      "\n",
      "WARNING:tensorflow:From /usr/local/lib/python3.6/dist-packages/keras/optimizers.py:793: The name tf.train.Optimizer is deprecated. Please use tf.compat.v1.train.Optimizer instead.\n",
      "\n",
      "WARNING:tensorflow:From /usr/local/lib/python3.6/dist-packages/keras/backend/tensorflow_backend.py:3657: The name tf.log is deprecated. Please use tf.math.log instead.\n",
      "\n",
      "WARNING:tensorflow:From /usr/local/lib/python3.6/dist-packages/tensorflow/python/ops/nn_impl.py:180: add_dispatch_support.<locals>.wrapper (from tensorflow.python.ops.array_ops) is deprecated and will be removed in a future version.\n",
      "Instructions for updating:\n",
      "Use tf.where in 2.0, which has the same broadcast rule as np.where\n",
      "Model: \"sequential_1\"\n",
      "_________________________________________________________________\n",
      "Layer (type)                 Output Shape              Param #   \n",
      "=================================================================\n",
      "conv2d_1 (Conv2D)            (None, 32, 32, 32)        896       \n",
      "_________________________________________________________________\n",
      "max_pooling2d_1 (MaxPooling2 (None, 16, 16, 32)        0         \n",
      "_________________________________________________________________\n",
      "conv2d_2 (Conv2D)            (None, 16, 16, 32)        9248      \n",
      "_________________________________________________________________\n",
      "max_pooling2d_2 (MaxPooling2 (None, 8, 8, 32)          0         \n",
      "_________________________________________________________________\n",
      "flatten_1 (Flatten)          (None, 2048)              0         \n",
      "_________________________________________________________________\n",
      "dense_1 (Dense)              (None, 1024)              2098176   \n",
      "_________________________________________________________________\n",
      "dense_2 (Dense)              (None, 512)               524800    \n",
      "_________________________________________________________________\n",
      "dense_3 (Dense)              (None, 10)                5130      \n",
      "=================================================================\n",
      "Total params: 2,638,250\n",
      "Trainable params: 2,638,250\n",
      "Non-trainable params: 0\n",
      "_________________________________________________________________\n",
      "WARNING:tensorflow:From /usr/local/lib/python3.6/dist-packages/keras/backend/tensorflow_backend.py:1033: The name tf.assign_add is deprecated. Please use tf.compat.v1.assign_add instead.\n",
      "\n",
      "Train on 35000 samples, validate on 15000 samples\n",
      "Epoch 1/25\n",
      "35000/35000 [==============================] - 13s 374us/step - loss: 0.2342 - acc: 0.9115 - val_loss: 0.1976 - val_acc: 0.9229\n",
      "Epoch 2/25\n",
      "35000/35000 [==============================] - 6s 175us/step - loss: 0.1805 - acc: 0.9288 - val_loss: 0.1783 - val_acc: 0.9288\n",
      "Epoch 3/25\n",
      "35000/35000 [==============================] - 6s 172us/step - loss: 0.1544 - acc: 0.9389 - val_loss: 0.1698 - val_acc: 0.9344\n",
      "Epoch 4/25\n",
      "35000/35000 [==============================] - 6s 172us/step - loss: 0.1321 - acc: 0.9483 - val_loss: 0.1597 - val_acc: 0.9389\n",
      "Epoch 5/25\n",
      "35000/35000 [==============================] - 6s 171us/step - loss: 0.1106 - acc: 0.9569 - val_loss: 0.1506 - val_acc: 0.9426\n",
      "Epoch 6/25\n",
      "35000/35000 [==============================] - 6s 171us/step - loss: 0.0883 - acc: 0.9659 - val_loss: 0.1566 - val_acc: 0.9415\n",
      "Epoch 7/25\n",
      "35000/35000 [==============================] - 6s 174us/step - loss: 0.0692 - acc: 0.9739 - val_loss: 0.1632 - val_acc: 0.9439\n",
      "Epoch 8/25\n",
      "35000/35000 [==============================] - 6s 174us/step - loss: 0.0500 - acc: 0.9814 - val_loss: 0.1982 - val_acc: 0.9368\n",
      "Epoch 9/25\n",
      "35000/35000 [==============================] - 6s 170us/step - loss: 0.0367 - acc: 0.9866 - val_loss: 0.1990 - val_acc: 0.9414\n",
      "Epoch 10/25\n",
      "35000/35000 [==============================] - 6s 171us/step - loss: 0.0251 - acc: 0.9911 - val_loss: 0.2441 - val_acc: 0.9391\n",
      "Epoch 11/25\n",
      "35000/35000 [==============================] - 6s 176us/step - loss: 0.0201 - acc: 0.9930 - val_loss: 0.2674 - val_acc: 0.9382\n",
      "Epoch 12/25\n",
      "35000/35000 [==============================] - 6s 175us/step - loss: 0.0164 - acc: 0.9944 - val_loss: 0.2755 - val_acc: 0.9386\n",
      "Epoch 13/25\n",
      "35000/35000 [==============================] - 6s 172us/step - loss: 0.0141 - acc: 0.9951 - val_loss: 0.2755 - val_acc: 0.9371\n",
      "Epoch 14/25\n",
      "35000/35000 [==============================] - 6s 171us/step - loss: 0.0143 - acc: 0.9950 - val_loss: 0.2995 - val_acc: 0.9367\n",
      "Epoch 15/25\n",
      "35000/35000 [==============================] - 6s 171us/step - loss: 0.0145 - acc: 0.9950 - val_loss: 0.3080 - val_acc: 0.9379\n",
      "Epoch 16/25\n",
      "35000/35000 [==============================] - 6s 171us/step - loss: 0.0101 - acc: 0.9965 - val_loss: 0.3268 - val_acc: 0.9376\n",
      "Epoch 17/25\n",
      "35000/35000 [==============================] - 6s 171us/step - loss: 0.0115 - acc: 0.9960 - val_loss: 0.3172 - val_acc: 0.9365\n",
      "Epoch 18/25\n",
      "35000/35000 [==============================] - 6s 172us/step - loss: 0.0096 - acc: 0.9968 - val_loss: 0.3387 - val_acc: 0.9363\n",
      "Epoch 19/25\n",
      "35000/35000 [==============================] - 6s 171us/step - loss: 0.0095 - acc: 0.9967 - val_loss: 0.3326 - val_acc: 0.9374\n",
      "Epoch 20/25\n",
      "35000/35000 [==============================] - 6s 173us/step - loss: 0.0080 - acc: 0.9974 - val_loss: 0.3372 - val_acc: 0.9387\n",
      "Epoch 21/25\n",
      "35000/35000 [==============================] - 6s 171us/step - loss: 0.0074 - acc: 0.9974 - val_loss: 0.3563 - val_acc: 0.9355\n",
      "Epoch 22/25\n",
      "35000/35000 [==============================] - 6s 170us/step - loss: 0.0095 - acc: 0.9967 - val_loss: 0.3757 - val_acc: 0.9352\n",
      "Epoch 23/25\n",
      "35000/35000 [==============================] - 6s 170us/step - loss: 0.0105 - acc: 0.9966 - val_loss: 0.3565 - val_acc: 0.9372\n",
      "Epoch 24/25\n",
      "35000/35000 [==============================] - 6s 171us/step - loss: 0.0062 - acc: 0.9979 - val_loss: 0.3819 - val_acc: 0.9349\n",
      "Epoch 25/25\n",
      "35000/35000 [==============================] - 6s 171us/step - loss: 0.0080 - acc: 0.9974 - val_loss: 0.3697 - val_acc: 0.9367\n"
     ]
    },
    {
     "data": {
      "image/png": "[encoded data removed]",
      "text/plain": [
       "<Figure size 432x288 with 1 Axes>"
      ]
     },
     "metadata": {
      "tags": []
     },
     "output_type": "display_data"
    },
    {
     "data": {
      "image/png": "[encoded data removed]",
      "text/plain": [
       "<Figure size 432x288 with 1 Axes>"
      ]
     },
     "metadata": {
      "tags": []
     },
     "output_type": "display_data"
    },
    {
     "name": "stdout",
     "output_type": "stream",
     "text": [
      "10000/10000 [==============================] - 1s 112us/step\n",
      "Test accuracy: 0.9362099866867065\n"
     ]
    }
   ],
   "source": [
    "#Lab Assignment - 5\n",
    "#DIGITAL IMAGE PROCESSING LAB\n",
    "#Date – 17/09/2019\n",
    "#Name – ASHISH GOYAL\n",
    "#ID Number – 2016UCP1100\n",
    "\n",
    "#from google.colab import drive        ##use to mount google drive.......\n",
    "#drive.mount('/content/drive')\n",
    "\n",
    "import keras\n",
    "import matplotlib.pyplot as plt\n",
    "from keras.datasets import cifar10\n",
    "from keras.models import Sequential\n",
    "from keras.layers import Conv2D\n",
    "from keras.layers import MaxPooling2D\n",
    "from keras.layers import Dense\n",
    "from keras.layers import Flatten\n",
    "from keras import utils as np_utils\n",
    "\n",
    "def plot_loss_acc(history):             ##function to plot graph for accuracy and loss for both training and validation...\n",
    "    # Plot training & validation accuracy values\n",
    "    plt.plot(history.history['acc'])\n",
    "    plt.plot(history.history['val_acc'])\n",
    "    plt.title('Model accuracy')\n",
    "    plt.ylabel('Accuracy')\n",
    "    plt.xlabel('Epoch')\n",
    "    plt.legend(['Train', 'Validation'], loc='upper left')\n",
    "    plt.show()\n",
    "\n",
    "    # Plot training & validation loss values\n",
    "    plt.plot(history.history['loss'])\n",
    "    plt.plot(history.history['val_loss'])\n",
    "    plt.title('Model loss')\n",
    "    plt.ylabel('Loss')\n",
    "    plt.xlabel('Epoch')\n",
    "    plt.legend(['Train', 'Validation'], loc='upper left')\n",
    "    plt.show()\n",
    "\n",
    "\n",
    "# load dataset\n",
    "(Xtrain, Ytrain), (Xtest, Ytest)=cifar10.load_data()\n",
    "Ytrain = np_utils.to_categorical(Ytrain, 10) #10 binary bits we get(the bit corresponds to label gets 1)\n",
    "Ytest = np_utils.to_categorical(Ytest, 10)\n",
    "# summarize loaded dataset\n",
    "print('Train: X=%s, y=%s' % (Xtrain.shape, Ytrain.shape))\n",
    "print('Test: X=%s, y=%s' % (Xtest.shape, Ytest.shape))\n",
    "\n",
    "#Normalize the input\n",
    "Xtrain=Xtrain/255\n",
    "Xtest=Xtest/255\n",
    "\n",
    "#Creating the model\n",
    "cnn_model =Sequential()\n",
    "cnn_model.add(Conv2D(32, (3, 3), activation='relu', input_shape=(32, 32, 3), padding='same')) #applying 32 convolutional filter of size 3x3\n",
    "cnn_model.add(MaxPooling2D(pool_size=(2, 2)))  #applying Maxpool operation after layer (pool size=2×2)\n",
    "cnn_model.add(Conv2D(32, (3, 3), activation='relu', padding='same'))  #applying 32 convolutional filter of size 3x3\n",
    "cnn_model.add(MaxPooling2D(pool_size=(2, 2)))  #applying Maxpool operation after layer (pool size=2×2)\n",
    "cnn_model.add(Flatten())      #convert into 1D feature vector of size(1xn)\n",
    "cnn_model.add(Dense(1024, activation='relu'))      #convert size from n to 1024\n",
    "cnn_model.add(Dense(512, activation='relu'))       #convert size from 1024 to 512\n",
    "cnn_model.add(Dense(10, activation='softmax'))     #convert size from 512 to 10\n",
    "cnn_model.compile(optimizer='adam',loss='binary_crossentropy',metrics=['accuracy'])\n",
    "cnn_model.summary()\n",
    "\n",
    "#training the model and saving it\n",
    "model_history = cnn_model.fit(Xtrain, Ytrain, epochs=25, batch_size=100, validation_split=0.3) #validation 30% of training data\n",
    "cnn_model.save(\"model.h5\")\n",
    "#drawing accuracy and loss graphs\n",
    "plot_loss_acc(model_history)\n",
    "\n",
    "#testing the model\n",
    "#keras.utils.plot_model(cnn_model)\n",
    "test_loss, test_acc = cnn_model.evaluate(Xtest, Ytest)\n",
    "print('Test accuracy:', test_acc)"
   ]
  },
  {
   "cell_type": "code",
   "execution_count": 0,
   "metadata": {
    "colab": {},
    "colab_type": "code",
    "id": "GzT77IDcodei"
   },
   "outputs": [],
   "source": []
  }
 ],
 "metadata": {
  "accelerator": "GPU",
  "colab": {
   "collapsed_sections": [],
   "name": "aquestion1.ipynb",
   "provenance": []
  },
  "kernelspec": {
   "display_name": "Python 3",
   "language": "python",
   "name": "python3"
  },
  "language_info": {
   "codemirror_mode": {
    "name": "ipython",
    "version": 3
   },
   "file_extension": ".py",
   "mimetype": "text/x-python",
   "name": "python",
   "nbconvert_exporter": "python",
   "pygments_lexer": "ipython3",
   "version": "3.7.0"
  }
 },
 "nbformat": 4,
 "nbformat_minor": 1
}
