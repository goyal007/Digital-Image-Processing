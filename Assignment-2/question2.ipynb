{
 "cells": [
  {
   "cell_type": "code",
   "execution_count": null,
   "metadata": {},
   "outputs": [
    {
     "name": "stdout",
     "output_type": "stream",
     "text": [
      "<class 'numpy.ndarray'>\n",
      "240 320\n",
      "[[ 82  38  47 ...  80  76  75]\n",
      " [ 65  40  38 ... 154 151 151]\n",
      " [ 50  44  30 ... 199 199 199]\n",
      " ...\n",
      " [141 143 140 ...  98 109 126]\n",
      " [119 110  97 ...  92 107 110]\n",
      " [ 89  74  57 ... 119 127 104]]\n",
      "[[ 40  38  30 ... 154 151 151]\n",
      " [ 44  26  61 ...  15  15  15]\n",
      " [ 54  78  12 ... 127 111 207]\n",
      " ...\n",
      " [143 135 255 ...  56 108  66]\n",
      " [110 255 121 ...  48 224 231]\n",
      " [ 74 120 120 ...   0 192 145]]\n"
     ]
    }
   ],
   "source": [
    "# Lab Assignment - 2\n",
    "# DIP Lab\n",
    "# Date - 20 Aug 19\n",
    "# Name - Ashish Goyal\n",
    "# Id - 2016ucp1100\n",
    "import cv2  \n",
    "import numpy as np\n",
    "#function cv2.imread() to read an image\n",
    "img_object = cv2.imread('img2.jpg',0) #Loads a color image. Any transparency of image will be neglected. It is the default flag.\n",
    "print(type(img_object))\n",
    "#print(img_object1) #to show image in matrix form\n",
    "height = img_object.shape[0]\n",
    "width = img_object.shape[1]\n",
    "cv2.imshow('Initial Image',img_object)\n",
    "print(height,width)\n",
    "print(img_object)\n",
    "final_img= cv2.imread('img2.jpg',0)\n",
    "final_img =final_img[1:height, 1:width]\n",
    "for i in range(1,height-1):\n",
    "    temp_list=[]\n",
    "    for j in range (1,width-1):\n",
    "        val=0\n",
    "        if (img_object[i][j] >= img_object[i-1][j-1]):\n",
    "            val = val + 1\n",
    "        if (img_object[i][j] >= img_object[i-1][j]):\n",
    "            val = val + 2\n",
    "        if (img_object[i][j] >= img_object[i-1][j+1]):\n",
    "            val = val + 4\n",
    "        if (img_object[i][j] >= img_object[i][j+1]):\n",
    "            val = val + 8\n",
    "        if (img_object[i][j] >= img_object[i+1][j+1]):\n",
    "            val = val + 16\n",
    "        if (img_object[i][j] >= img_object[i+1][j]):\n",
    "            val = val + 32\n",
    "        if (img_object[i][j] >= img_object[i+1][j-1]):\n",
    "            val = val + 64\n",
    "        if (img_object[i][j] >= img_object[i][j-1]):\n",
    "            val = val + 128\n",
    "        final_img[i][j] = val\n",
    "            \n",
    "\n",
    "print (final_img)\n",
    "cv2.imshow('Final Image',final_img)\n",
    "cv2.imwrite('LBP_output.jpg',final_img)\n",
    "k = cv2.waitKey(0) & 0xFF    #for 64 bit machine\n",
    "cv2.destroyAllWindows()"
   ]
  },
  {
   "cell_type": "code",
   "execution_count": null,
   "metadata": {},
   "outputs": [],
   "source": []
  }
 ],
 "metadata": {
  "kernelspec": {
   "display_name": "Python 3",
   "language": "python",
   "name": "python3"
  },
  "language_info": {
   "codemirror_mode": {
    "name": "ipython",
    "version": 3
   },
   "file_extension": ".py",
   "mimetype": "text/x-python",
   "name": "python",
   "nbconvert_exporter": "python",
   "pygments_lexer": "ipython3",
   "version": "3.7.0"
  }
 },
 "nbformat": 4,
 "nbformat_minor": 2
}
