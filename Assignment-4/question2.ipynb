{
 "cells": [
  {
   "cell_type": "code",
   "execution_count": 7,
   "metadata": {},
   "outputs": [
    {
     "name": "stdout",
     "output_type": "stream",
     "text": [
      "break1\n",
      "0.37205846272941545 0.8086506761948872\n"
     ]
    },
    {
     "data": {
      "image/png": "[encoded data removed]",
      "text/plain": [
       "<Figure size 432x288 with 1 Axes>"
      ]
     },
     "metadata": {
      "needs_background": "light"
     },
     "output_type": "display_data"
    }
   ],
   "source": [
    "# Lab Assignment - 4\n",
    "# DIP Lab\n",
    "# Date - 06 Sep 19\n",
    "# Name - Ashish Goyal\n",
    "# Id - 2016ucp1100\n",
    "import cv2  \n",
    "import numpy as np\n",
    "import math \n",
    "import random\n",
    "from matplotlib import pyplot as plt\n",
    "\n",
    "x= [1,2,4,3,5] \n",
    "y= [1,3,3,2,5]\n",
    "\n",
    "n = 0.001 #learning rate\n",
    "m=5\n",
    "\n",
    "theta0 = random.random()\n",
    "theta1 = random.random()\n",
    "\n",
    "\n",
    "\n",
    "#print(type(theta1))\n",
    "#print(theta0,theta1)\n",
    "\n",
    "count = 0\n",
    "\n",
    "error_1 = 0\n",
    "for i in range(5) :\n",
    "    error_1 = error_1 + (theta0 + theta1*x[i] - y[i])**2\n",
    "\n",
    "while 1:\n",
    "    for i in range(5):\n",
    "        grad0 = theta0 + theta1*x[i] - y[i]\n",
    "        grad1 = (theta0 + theta1*x[i] - y[i])*x[i]\n",
    "        \n",
    "        temp0 = theta0 - n * grad0\n",
    "        temp1 = theta1 - n * grad1\n",
    "        \n",
    "        theta0 = temp0\n",
    "        theta1 = temp1\n",
    "        \n",
    "    error_2 = 0\n",
    "    for i in range(5) :\n",
    "        error_2 = error_2 + (theta0 + theta1*x[i] - y[i])**2\n",
    "\n",
    "    if (abs(error_1 - error_2) <= 0.000001):\n",
    "        print(\"break1\")\n",
    "        break\n",
    "    if count == 10000:\n",
    "        print(\"break2\")\n",
    "        break\n",
    "    count = count+1\n",
    "    #print(count)\n",
    "    error_1 = error_2\n",
    "\n",
    "print (theta0,theta1)\n",
    "\n",
    "x1 = np.linspace(0,5)\n",
    "y1 = theta1*x1+theta0\n",
    "plt.plot(x1, y1, '-g')\n",
    "plt.title('Gradient Descent')\n",
    "plt.xlabel('x')\n",
    "plt.ylabel('y')\n",
    "plt.grid()\n",
    "plt.scatter(x,y)\n",
    "plt.show()"
   ]
  },
  {
   "cell_type": "code",
   "execution_count": null,
   "metadata": {},
   "outputs": [],
   "source": []
  }
 ],
 "metadata": {
  "kernelspec": {
   "display_name": "Python 3",
   "language": "python",
   "name": "python3"
  },
  "language_info": {
   "codemirror_mode": {
    "name": "ipython",
    "version": 3
   },
   "file_extension": ".py",
   "mimetype": "text/x-python",
   "name": "python",
   "nbconvert_exporter": "python",
   "pygments_lexer": "ipython3",
   "version": "3.7.0"
  }
 },
 "nbformat": 4,
 "nbformat_minor": 2
}
