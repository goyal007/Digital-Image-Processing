{
 "cells": [
  {
   "cell_type": "code",
   "execution_count": 1,
   "metadata": {},
   "outputs": [
    {
     "name": "stdout",
     "output_type": "stream",
     "text": [
      "<class 'numpy.ndarray'>\n",
      "600 675\n"
     ]
    }
   ],
   "source": [
    "# Lab Assignment - 3\n",
    "# DIP Lab\n",
    "# Date - 27 Aug 19\n",
    "# Name - Ashish Goyal\n",
    "# Id - 2016ucp1100\n",
    "import cv2  \n",
    "import numpy as np\n",
    "import math \n",
    "#function cv2.imread() to read an image\n",
    "img_object = cv2.imread('img2.jpg',0) #Loads a color image. Any transparency of image will be neglected. It is the default flag.\n",
    "print(type(img_object))\n",
    "#print(img_object1) #to show image in matrix form\n",
    "height = img_object.shape[0]\n",
    "width = img_object.shape[1]\n",
    "cv2.imshow('Initial Image',img_object)\n",
    "print(height,width)\n",
    "#print(img_object)\n",
    "\n",
    "final_img_up = cv2.imread('img2.jpg',0)\n",
    "final_img_low = cv2.imread('img2.jpg',0)\n",
    "#final_img =final_img[1:height, 1:width]\n",
    "\n",
    "\n",
    "\n",
    "\n",
    "def filter(input_img,final_img_up,final_img_low,height,width,filter_matrix,threshold):\n",
    "    for i in range(1,height-1):\n",
    "        for j in range (1,width-1):\n",
    "            val_up=0\n",
    "            val_low=0\n",
    "            for x in range(-1,2):\n",
    "                for y in range(-1,2):\n",
    "                    if((input_img[i][j]+threshold)<=input_img[i+x][j+y]):\n",
    "                        val_up= val_up + filter_matrix[x+1][y+1]\n",
    "                    elif((input_img[i][j]-threshold)>=input_img[i+x][j+y]):\n",
    "                        val_low= val_low + filter_matrix[x+1][y+1]\n",
    "            final_img_up[i][j] = val_up\n",
    "            final_img_low[i][j] = val_low\n",
    "    return (final_img_low,final_img_up)\n",
    "            \n",
    "filter_matrix=[[8,4,2],[16,0,1],[32,64,128]]\n",
    "threshold=5\n",
    "\n",
    "final_img_low,final_img_up = filter(img_object,final_img_low,final_img_up,height,width,filter_matrix,threshold)\n",
    "cv2.imshow('Upper Pattern',final_img_up)\n",
    "cv2.imwrite('output_upper_pattern.jpg',final_img_up)\n",
    "cv2.imshow('Lower Pattern',final_img_low)\n",
    "cv2.imwrite('output_lower_pattern.jpg',final_img_low)\n",
    "\n",
    "\n",
    "k = cv2.waitKey(0) & 0xFF    #for 64 bit machine\n",
    "cv2.destroyAllWindows()"
   ]
  },
  {
   "cell_type": "code",
   "execution_count": null,
   "metadata": {},
   "outputs": [],
   "source": []
  }
 ],
 "metadata": {
  "kernelspec": {
   "display_name": "Python 3",
   "language": "python",
   "name": "python3"
  },
  "language_info": {
   "codemirror_mode": {
    "name": "ipython",
    "version": 3
   },
   "file_extension": ".py",
   "mimetype": "text/x-python",
   "name": "python",
   "nbconvert_exporter": "python",
   "pygments_lexer": "ipython3",
   "version": "3.7.0"
  }
 },
 "nbformat": 4,
 "nbformat_minor": 2
}
