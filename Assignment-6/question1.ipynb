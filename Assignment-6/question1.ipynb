{
 "cells": [
  {
   "cell_type": "code",
   "execution_count": null,
   "metadata": {},
   "outputs": [
    {
     "name": "stdout",
     "output_type": "stream",
     "text": [
      "[[0 0 0 0 1 0 0 0 0]\n",
      " [0 1 1 1 1 1 1 1 0]\n",
      " [0 1 1 1 1 1 1 1 0]\n",
      " [1 1 1 1 1 1 1 1 1]\n",
      " [1 1 1 1 1 1 1 1 1]\n",
      " [1 1 1 1 1 1 1 1 1]\n",
      " [0 1 1 1 1 1 1 1 0]\n",
      " [0 1 1 1 1 1 1 1 0]\n",
      " [0 0 0 0 1 0 0 0 0]]\n"
     ]
    }
   ],
   "source": [
    "#Lab Assignment - 6\n",
    "#DIGITAL IMAGE PROCESSING LAB\n",
    "#Date – 05/11/2019\n",
    "#Name – ASHISH GOYAL\n",
    "#ID Number – 2016UCP1100\n",
    "\n",
    "import cv2 as cv\n",
    "import numpy as np\n",
    "img = cv.imread('image.png',0)\n",
    "cv.imshow('Input',img)\n",
    "kernel = cv.getStructuringElement(cv.MORPH_ELLIPSE,(9,9))\n",
    "print(kernel)\n",
    "opening = cv.morphologyEx(img, cv.MORPH_OPEN, kernel)\n",
    "#cv.imshow('Circles',opening)\n",
    "new = img - opening\n",
    "#cv.imshow('Lines',new)\n",
    "\n",
    "kernel1 = np.ones((3,3),np.uint8)\n",
    "kernel2 = np.ones((3,3),np.uint8)\n",
    "\n",
    "erosion = cv.erode(new,kernel1,iterations = 1)\n",
    "dilation = cv.dilate(erosion,kernel2,iterations = 1)\n",
    "cv.imshow('Lines Final',dilation)\n",
    "cv.imwrite('line.png',dilation)\n",
    "\n",
    "kernel3 = cv.getStructuringElement(cv.MORPH_ELLIPSE,(5,5))\n",
    "\n",
    "erosion1 = cv.erode(opening,kernel3,iterations = 1)\n",
    "dilation1 = cv.dilate(erosion1,kernel3,iterations = 1)\n",
    "cv.imshow('Circle Final',dilation1)\n",
    "cv.imwrite('circle.png',dilation1)\n",
    "\n",
    "k = cv.waitKey(0) & 0xFF    #for 64 bit machine\n",
    "cv.destroyAllWindows()"
   ]
  },
  {
   "cell_type": "code",
   "execution_count": null,
   "metadata": {},
   "outputs": [],
   "source": []
  }
 ],
 "metadata": {
  "kernelspec": {
   "display_name": "Python 3",
   "language": "python",
   "name": "python3"
  },
  "language_info": {
   "codemirror_mode": {
    "name": "ipython",
    "version": 3
   },
   "file_extension": ".py",
   "mimetype": "text/x-python",
   "name": "python",
   "nbconvert_exporter": "python",
   "pygments_lexer": "ipython3",
   "version": "3.7.0"
  }
 },
 "nbformat": 4,
 "nbformat_minor": 2
}
