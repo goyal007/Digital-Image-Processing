{
 "cells": [
  {
   "cell_type": "code",
   "execution_count": null,
   "metadata": {},
   "outputs": [],
   "source": [
    "#Lab Assignment - 6\n",
    "#DIGITAL IMAGE PROCESSING LAB\n",
    "#Date – 05/11/2019\n",
    "#Name – ASHISH GOYAL\n",
    "#ID Number – 2016UCP1100\n",
    "\n",
    "import cv2\n",
    "import numpy as np\n",
    "\n",
    "img = cv2.imread('image2.png',0)\n",
    "kernel = np.ones((2,2),np.uint8)\n",
    "out = cv2.morphologyEx(img, cv2.MORPH_GRADIENT, kernel)\n",
    "cv2.imshow('Output image',out)\n",
    "cv2.imwrite('output2.png',out)\n",
    "\n",
    "k = cv2.waitKey(0) & 0xFF    #for 64 bit machine\n",
    "cv2.destroyAllWindows()"
   ]
  },
  {
   "cell_type": "code",
   "execution_count": null,
   "metadata": {},
   "outputs": [],
   "source": []
  }
 ],
 "metadata": {
  "kernelspec": {
   "display_name": "Python 3",
   "language": "python",
   "name": "python3"
  },
  "language_info": {
   "codemirror_mode": {
    "name": "ipython",
    "version": 3
   },
   "file_extension": ".py",
   "mimetype": "text/x-python",
   "name": "python",
   "nbconvert_exporter": "python",
   "pygments_lexer": "ipython3",
   "version": "3.7.0"
  }
 },
 "nbformat": 4,
 "nbformat_minor": 2
}
