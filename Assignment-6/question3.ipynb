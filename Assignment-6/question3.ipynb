{
 "cells": [
  {
   "cell_type": "code",
   "execution_count": null,
   "metadata": {},
   "outputs": [],
   "source": [
    "#Lab Assignment - 6\n",
    "#DIGITAL IMAGE PROCESSING LAB\n",
    "#Date – 05/11/2019\n",
    "#Name – ASHISH GOYAL\n",
    "#ID Number – 2016UCP1100\n",
    "\n",
    "import cv2 as cv\n",
    "import numpy as np\n",
    "\n",
    "img = cv.imread('image3.jpg')\n",
    "\n",
    "dst = np.empty_like(img) #create empty array the size of the image\n",
    "noise = cv.randn(dst, (0,0,0), (20,20,20)) #add random img noise\n",
    "\n",
    "# Pass img through noise filter to add noise\n",
    "p_noise = cv.addWeighted(img ,0.5, noise, 0.5, 50) \n",
    "\n",
    "# Blurring function; kernel=15, sigma=auto\n",
    "p_blur = cv.GaussianBlur(p_noise, (15, 15), 0)\n",
    "\n",
    "cv.imwrite('output3_a.jpg',p_blur)\n",
    "cv.imshow('Output image1',p_blur)\n",
    "\n",
    "img = cv.imread('image3_2.jpg')\n",
    "\n",
    "dst = np.empty_like(img) #create empty array the size of the image\n",
    "noise = cv.randn(dst, (0,0,0), (20,20,20)) #add random img noise\n",
    "\n",
    "# Pass img through noise filter to add noise\n",
    "p_noise = cv.addWeighted(img ,0.5, noise, 0.5, 50) \n",
    "\n",
    "# Blurring function; kernel=15, sigma=auto\n",
    "p_blur1 = cv.GaussianBlur(p_noise, (15, 15), 0)\n",
    "\n",
    "cv.imwrite('output3_b.jpg',p_blur1)\n",
    "cv.imshow('Output image',p_blur1)\n",
    "\n",
    "k = cv.waitKey(0) & 0xFF    #for 64 bit machine\n",
    "cv.destroyAllWindows()"
   ]
  },
  {
   "cell_type": "code",
   "execution_count": null,
   "metadata": {},
   "outputs": [],
   "source": []
  }
 ],
 "metadata": {
  "kernelspec": {
   "display_name": "Python 3",
   "language": "python",
   "name": "python3"
  },
  "language_info": {
   "codemirror_mode": {
    "name": "ipython",
    "version": 3
   },
   "file_extension": ".py",
   "mimetype": "text/x-python",
   "name": "python",
   "nbconvert_exporter": "python",
   "pygments_lexer": "ipython3",
   "version": "3.7.0"
  }
 },
 "nbformat": 4,
 "nbformat_minor": 2
}
