{
 "cells": [
  {
   "cell_type": "code",
   "execution_count": 2,
   "metadata": {},
   "outputs": [],
   "source": [
    "# Lab Assignment - 1\n",
    "# DIP Lab\n",
    "# Date - 6 Aug 19\n",
    "# Name - Ashish Goyal\n",
    "# Id - 2016ucp1100\n",
    "import cv2 \n",
    "vidObj = cv2.VideoCapture('Video1.avi')\n",
    "count = 0  #number of images\n",
    "success = 1 # checks whether frames were extracted \n",
    "frames =[]\n",
    "while success: \n",
    "    # vidObj object calls read \n",
    "    # function extract frames \n",
    "    success, image = vidObj.read() \n",
    "    frames.append(image)\n",
    "    #cv2.imwrite(\"frame%d.jpg\" % count, image) # Saves the frames with frame-count \n",
    "    count += 1\n",
    "#print(frames)\n",
    "\n",
    "height, width, layers = frames[0].shape\n",
    "fps = vidObj.get(cv2.CAP_PROP_FPS)\n",
    "f_to_video = cv2.VideoWriter('frame_to_video.avi', 0, fps, (width, height))\n",
    "\n",
    "frameRate_change= cv2.VideoWriter('frameRate_change.avi', 0, fps+10, (width, height))\n",
    "\n",
    "\n",
    "for frame in frames:\n",
    "    f_to_video.write(frame)\n",
    "    \n",
    "for frame in frames:\n",
    "    frameRate_change.write(frame)\n",
    "#print(len(frames))\n",
    "#print(height)\n",
    "#print(width)\n",
    "#print(layers)\n",
    "\n",
    "\n",
    "\n",
    "cv2.destroyAllWindows()\n",
    "f_to_video.release()"
   ]
  }
 ],
 "metadata": {
  "kernelspec": {
   "display_name": "Python 3",
   "language": "python",
   "name": "python3"
  },
  "language_info": {
   "codemirror_mode": {
    "name": "ipython",
    "version": 3
   },
   "file_extension": ".py",
   "mimetype": "text/x-python",
   "name": "python",
   "nbconvert_exporter": "python",
   "pygments_lexer": "ipython3",
   "version": "3.7.0"
  }
 },
 "nbformat": 4,
 "nbformat_minor": 2
}
