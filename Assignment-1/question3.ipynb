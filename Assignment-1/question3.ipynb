{
 "cells": [
  {
   "cell_type": "code",
   "execution_count": null,
   "metadata": {},
   "outputs": [
    {
     "name": "stdout",
     "output_type": "stream",
     "text": [
      "[[[ 64  29  62]\n",
      "  [ 64  31  63]\n",
      "  [ 64  34  63]\n",
      "  ...\n",
      "  [ 57  29  64]\n",
      "  [ 55  28  63]\n",
      "  [ 55  28  64]]\n",
      "\n",
      " [[ 62  31  63]\n",
      "  [ 64  31  61]\n",
      "  [ 64  32  59]\n",
      "  ...\n",
      "  [ 55  27  61]\n",
      "  [ 54  27  58]\n",
      "  [ 56  27  56]]\n",
      "\n",
      " [[ 60  29  65]\n",
      "  [ 62  30  63]\n",
      "  [ 63  31  63]\n",
      "  ...\n",
      "  [ 55  26  64]\n",
      "  [ 57  27  62]\n",
      "  [ 57  27  57]]\n",
      "\n",
      " ...\n",
      "\n",
      " [[136  71 119]\n",
      "  [136  69 118]\n",
      "  [141  73 120]\n",
      "  ...\n",
      "  [ 45  21  45]\n",
      "  [ 46  24  45]\n",
      "  [ 42  24  40]]\n",
      "\n",
      " [[130  69 113]\n",
      "  [132  69 111]\n",
      "  [136  72 115]\n",
      "  ...\n",
      "  [ 43  19  41]\n",
      "  [ 47  22  44]\n",
      "  [ 48  22  45]]\n",
      "\n",
      " [[130  70 111]\n",
      "  [131  72 114]\n",
      "  [131  71 115]\n",
      "  ...\n",
      "  [ 41  20  40]\n",
      "  [ 45  21  42]\n",
      "  [ 49  23  46]]]\n"
     ]
    }
   ],
   "source": [
    "# Lab Assignment - 1\n",
    "# DIP Lab\n",
    "# Date - 6 Aug 19\n",
    "# Name - Ashish Goyal\n",
    "# Id - 2016ucp1100\n",
    "import cv2     \n",
    "#function cv2.imread() to read an image\n",
    "img_object1 = cv2.imread('img.png',1) #Loads a color image. Any transparency of image will be neglected. It is the default flag.\n",
    "\n",
    "print(img_object1) #to show image in matrix form\n",
    "\n",
    "gray = cv2.cvtColor(img_object1, cv2.COLOR_BGR2GRAY)\n",
    "\n",
    "#function cv2.imshow() to display an image in a window\n",
    "cv2.imshow('Flower Image',img_object1)\n",
    "cv2.imshow('Gray Flower Image',gray)\n",
    "cv2.imwrite('GrayImage.png',gray)\n",
    "k = cv2.waitKey(0) & 0xFF    #for 64 bit machine\n",
    "cv2.destroyAllWindows()"
   ]
  },
  {
   "cell_type": "code",
   "execution_count": null,
   "metadata": {},
   "outputs": [],
   "source": []
  }
 ],
 "metadata": {
  "kernelspec": {
   "display_name": "Python 3",
   "language": "python",
   "name": "python3"
  },
  "language_info": {
   "codemirror_mode": {
    "name": "ipython",
    "version": 3
   },
   "file_extension": ".py",
   "mimetype": "text/x-python",
   "name": "python",
   "nbconvert_exporter": "python",
   "pygments_lexer": "ipython3",
   "version": "3.7.0"
  }
 },
 "nbformat": 4,
 "nbformat_minor": 2
}
