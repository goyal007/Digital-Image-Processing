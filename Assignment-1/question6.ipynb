{
 "cells": [
  {
   "cell_type": "code",
   "execution_count": null,
   "metadata": {},
   "outputs": [],
   "source": [
    "# Lab Assignment - 1\n",
    "# DIP Lab\n",
    "# Date - 6 Aug 19\n",
    "# Name - Ashish Goyal\n",
    "# Id - 2016ucp1100\n",
    "\n",
    "import cv2\n",
    "import matplotlib.pyplot as plt\n",
    "import math\n",
    "\n",
    "original_freq = [0] * 256\n",
    "new_freq = []\n",
    "\n",
    "def histogram(height, width, gray):\n",
    "    for i in range(height):\n",
    "        for j in range(width):\n",
    "            intensity = gray[i][j]\n",
    "            original_freq[intensity] += 1\n",
    "\n",
    "    plt.bar([i for i in range(0, 256)], original_freq, width=0.30)\n",
    "    plt.xlabel(\"Intensity of pixel \")\n",
    "    plt.ylabel(\"frequency\")\n",
    "    plt.title(\"Histogram\")\n",
    "    plt.show()\n",
    "\n",
    "def Equalization(height, width):\n",
    "    count = 0\n",
    "    for i in original_freq:\n",
    "        count = count + i\n",
    "        new_freq.append(math.floor((count / (height * width)) * 255))\n",
    "    for i in range(height):\n",
    "        for j in range(width):\n",
    "            gray_after[i][j] = new_freq[gray[i][j]]\n",
    "\n",
    "img_object = cv2.imread('img.png')\n",
    "gray = cv2.cvtColor(img_object, cv2.COLOR_BGR2GRAY)\n",
    "gray_after = cv2.cvtColor(img_object, cv2.COLOR_BGR2GRAY)\n",
    "height, width = gray.shape\n",
    "histogram(height, width, gray)\n",
    "Equalization(height, width)\n",
    "histogram(height, width,gray_after)\n",
    "\n",
    "#images display\n",
    "cv2.imshow('Before Histogram Equalization', gray)\n",
    "cv2.imshow('After Histogram Equalization', gray_after)\n",
    "cv2.waitKey(0)\n",
    "cv2.destroyAllWindows()\n"
   ]
  },
  {
   "cell_type": "code",
   "execution_count": null,
   "metadata": {},
   "outputs": [],
   "source": []
  }
 ],
 "metadata": {
  "kernelspec": {
   "display_name": "Python 3",
   "language": "python",
   "name": "python3"
  },
  "language_info": {
   "codemirror_mode": {
    "name": "ipython",
    "version": 3
   },
   "file_extension": ".py",
   "mimetype": "text/x-python",
   "name": "python",
   "nbconvert_exporter": "python",
   "pygments_lexer": "ipython3",
   "version": "3.7.0"
  }
 },
 "nbformat": 4,
 "nbformat_minor": 2
}
