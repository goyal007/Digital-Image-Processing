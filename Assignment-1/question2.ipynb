{
 "cells": [
  {
   "cell_type": "code",
   "execution_count": null,
   "metadata": {},
   "outputs": [
    {
     "name": "stdout",
     "output_type": "stream",
     "text": [
      "[[43 45 47 ... 43 42 42]\n",
      " [45 44 44 ... 41 40 39]\n",
      " [44 44 45 ... 41 41 40]\n",
      " ...\n",
      " [92 91 94 ... 31 32 31]\n",
      " [89 88 92 ... 28 31 32]\n",
      " [89 91 91 ... 28 30 33]]\n"
     ]
    }
   ],
   "source": [
    "# Lab Assignment - 1\n",
    "# DIP Lab\n",
    "# Date - 6 Aug 19\n",
    "# Name - Ashish Goyal\n",
    "# Id - 2016ucp1100\n",
    "\n",
    "\n",
    "import cv2     \n",
    "#function cv2.imread() to read an image\n",
    "img_object = cv2.imread('img.png',0) #Loads image in grayscale mode\n",
    "img_object1 = cv2.imread('img.png',1) #Loads a color image. Any transparency of image will be neglected. It is the default flag.\n",
    "img_object2 = cv2.imread('img.png',-1)# Loads image as such including alpha channel \n",
    "\n",
    "print(img_object) #to show image in matrix form\n",
    "\n",
    "#function cv2.imshow() to display an image in a window\n",
    "cv2.imshow('Flower Image',img_object)\n",
    "cv2.imshow('Flower Image1',img_object1)\n",
    "cv2.imshow('Flower Image2',img_object2)\n",
    "\n",
    "k = cv2.waitKey(0) & 0xFF    #for 64 bit machine\n",
    "if k == ord('s'): # wait for 's' key to save and exit\n",
    "    cv2.imwrite('Image.png',img_object) #the function cv2.imwrite() to save an image.\n",
    "cv2.destroyAllWindows()"
   ]
  },
  {
   "cell_type": "code",
   "execution_count": null,
   "metadata": {},
   "outputs": [],
   "source": []
  }
 ],
 "metadata": {
  "kernelspec": {
   "display_name": "Python 3",
   "language": "python",
   "name": "python3"
  },
  "language_info": {
   "codemirror_mode": {
    "name": "ipython",
    "version": 3
   },
   "file_extension": ".py",
   "mimetype": "text/x-python",
   "name": "python",
   "nbconvert_exporter": "python",
   "pygments_lexer": "ipython3",
   "version": "3.8.5"
  }
 },
 "nbformat": 4,
 "nbformat_minor": 2
}
