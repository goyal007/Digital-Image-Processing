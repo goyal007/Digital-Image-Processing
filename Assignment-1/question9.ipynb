{
 "cells": [
  {
   "cell_type": "code",
   "execution_count": null,
   "metadata": {},
   "outputs": [],
   "source": [
    "# Lab Assignment - 1\n",
    "# DIP Lab\n",
    "# Date - 6 Aug 19\n",
    "# Name - Ashish Goyal\n",
    "# Id - 2016ucp1100\n",
    "\n",
    "import cv2\n",
    "import math\n",
    "\n",
    "img_object = cv2.imread('img.png', cv2.IMREAD_GRAYSCALE)\n",
    "cv2.imshow('Original Image', img_object)\n",
    "height, width = img_object.shape\n",
    "\n",
    "\n",
    "max_value=max(map(max, img_object))\n",
    "#print(maximum)\n",
    "gamma=0.8\n",
    "c=1\n",
    "for i in range(0, height):\n",
    "    for j in range(0, width):\n",
    "        img_object[i, j] =  c * ( img_object[i, j] ** gamma)\n",
    "cv2.imshow('Power Law transformed image', img_object)\n",
    "\n",
    "cv2.waitKey(0)\n",
    "cv2.destroyAllWindows()\n",
    "\n"
   ]
  },
  {
   "cell_type": "code",
   "execution_count": null,
   "metadata": {},
   "outputs": [],
   "source": []
  }
 ],
 "metadata": {
  "kernelspec": {
   "display_name": "Python 3",
   "language": "python",
   "name": "python3"
  },
  "language_info": {
   "codemirror_mode": {
    "name": "ipython",
    "version": 3
   },
   "file_extension": ".py",
   "mimetype": "text/x-python",
   "name": "python",
   "nbconvert_exporter": "python",
   "pygments_lexer": "ipython3",
   "version": "3.7.0"
  }
 },
 "nbformat": 4,
 "nbformat_minor": 2
}
